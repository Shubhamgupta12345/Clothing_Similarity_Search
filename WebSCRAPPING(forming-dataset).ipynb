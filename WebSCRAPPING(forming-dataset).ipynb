{
 "cells": [
  {
   "cell_type": "markdown",
   "id": "8feebb63",
   "metadata": {},
   "source": [
    "# CLOTHING SIMILARITY SEARCH"
   ]
  },
  {
   "cell_type": "code",
   "execution_count": 1,
   "id": "62d99f8e",
   "metadata": {},
   "outputs": [],
   "source": [
    "#importing the useful libraries\n",
    "import pandas as pd\n",
    "import requests\n",
    "from bs4 import BeautifulSoup\n",
    "#declaring the lists for various parameters\n",
    "fabric_name=[]\n",
    "colors=[]\n",
    "price=[]\n",
    "links=[]\n"
   ]
  },
  {
   "cell_type": "code",
   "execution_count": 2,
   "id": "f68f5a8e",
   "metadata": {},
   "outputs": [],
   "source": [
    "#url=\"https://www.flipkart.com/search?q=ladies%20suit&otracker=search&otracker1=search&marketplace=FLIPKART&as-show=on&as=off\""
   ]
  },
  {
   "cell_type": "code",
   "execution_count": 3,
   "id": "4c0ab1c0",
   "metadata": {},
   "outputs": [],
   "source": [
    "#page=requests.get(url)"
   ]
  },
  {
   "cell_type": "code",
   "execution_count": 4,
   "id": "40d6e832",
   "metadata": {},
   "outputs": [],
   "source": [
    "#print(page)"
   ]
  },
  {
   "cell_type": "code",
   "execution_count": 5,
   "id": "d60fe552",
   "metadata": {},
   "outputs": [],
   "source": [
    "#soup=BeautifulSoup(page.text,\"lxml\")"
   ]
  },
  {
   "cell_type": "code",
   "execution_count": 6,
   "id": "91ea5f54",
   "metadata": {},
   "outputs": [],
   "source": [
    "#print(soup)"
   ]
  },
  {
   "cell_type": "code",
   "execution_count": 7,
   "id": "534390e1",
   "metadata": {},
   "outputs": [],
   "source": [
    "#np=soup.find(\"a\",class_=\"ge-49M\").get(\"href\")\n",
    "#cnp=\"https://www.flipkart.com\"+np"
   ]
  },
  {
   "cell_type": "code",
   "execution_count": 8,
   "id": "e9f5fdd8",
   "metadata": {},
   "outputs": [],
   "source": [
    "#print(cnp)"
   ]
  },
  {
   "cell_type": "code",
   "execution_count": 9,
   "id": "46ebdf72",
   "metadata": {},
   "outputs": [],
   "source": [
    "#url from which we will be forming dataset , we will be forming it from flipkart ecommerce platform for ladies gowns\n",
    "url=\"https://www.flipkart.com/search?q=gowns&otracker=search&otracker1=search&marketplace=FLIPKART&as-show=on&as=off&page=1\""
   ]
  },
  {
   "cell_type": "code",
   "execution_count": 10,
   "id": "e8eb4a42",
   "metadata": {},
   "outputs": [],
   "source": [
    "#using beautifulsoup to scrap data\n",
    "page=requests.get(url)\n",
    "soup=BeautifulSoup(page.text,\"html.parser\")\n",
    "try:\n",
    "    box=soup.find(\"div\",class_ =\"_1YokD2 _3Mn1Gg\")\n",
    "\n",
    " #   if box is not None:\n",
    "  #      for result in box:\n",
    "   #         print(result.text)\n",
    "   # else:\n",
    "    #    print(\"There are NO ressults found!\")\n",
    "\n",
    "except AttributeError as s:\n",
    "   print(\"AttributeError occurred: \", s)"
   ]
  },
  {
   "cell_type": "code",
   "execution_count": 11,
   "id": "a6a75404",
   "metadata": {},
   "outputs": [
    {
     "ename": "AttributeError",
     "evalue": "'NoneType' object has no attribute 'find_all'",
     "output_type": "error",
     "traceback": [
      "\u001b[1;31m---------------------------------------------------------------------------\u001b[0m",
      "\u001b[1;31mAttributeError\u001b[0m                            Traceback (most recent call last)",
      "Cell \u001b[1;32mIn [11], line 2\u001b[0m\n\u001b[0;32m      1\u001b[0m \u001b[38;5;66;03m#scrapping for fabric name (ex cotton , design etc.)\u001b[39;00m\n\u001b[1;32m----> 2\u001b[0m names\u001b[38;5;241m=\u001b[39m\u001b[43mbox\u001b[49m\u001b[38;5;241;43m.\u001b[39;49m\u001b[43mfind_all\u001b[49m(\u001b[38;5;124m\"\u001b[39m\u001b[38;5;124ma\u001b[39m\u001b[38;5;124m\"\u001b[39m,class_\u001b[38;5;241m=\u001b[39m\u001b[38;5;124m\"\u001b[39m\u001b[38;5;124mIRpwTa\u001b[39m\u001b[38;5;124m\"\u001b[39m)\n\u001b[0;32m      3\u001b[0m \u001b[38;5;28;01mfor\u001b[39;00m i \u001b[38;5;129;01min\u001b[39;00m names:\n\u001b[0;32m      4\u001b[0m     name\u001b[38;5;241m=\u001b[39mi\u001b[38;5;241m.\u001b[39mtext\n",
      "\u001b[1;31mAttributeError\u001b[0m: 'NoneType' object has no attribute 'find_all'"
     ]
    }
   ],
   "source": [
    "#scrapping for fabric name (ex cotton , design etc.)\n",
    "names=box.find_all(\"a\",class_=\"IRpwTa\")\n",
    "for i in names:\n",
    "    name=i.text\n",
    "    fabric_name.append(name)\n",
    "print(len(fabric_name))   "
   ]
  },
  {
   "cell_type": "code",
   "execution_count": null,
   "id": "4f085527",
   "metadata": {},
   "outputs": [],
   "source": [
    "#price of the product\n",
    "pri=box.find_all(\"div\",class_ =\"_30jeq3\")\n",
    "\n",
    "for i in pri:\n",
    "    p=i.text\n",
    "    price.append(p)\n",
    "    \n",
    "print(len(price))\n"
   ]
  },
  {
   "cell_type": "code",
   "execution_count": null,
   "id": "78be5a81",
   "metadata": {},
   "outputs": [],
   "source": [
    "#color of the product\n",
    "col=box.find_all(\"div\",class_=\"_3eWWd-\")\n",
    "for i in col:\n",
    "    co=i.text\n",
    "    colors.append(co)\n",
    "    \n",
    "print(len(colors))  "
   ]
  },
  {
   "cell_type": "code",
   "execution_count": null,
   "id": "49b03f2b",
   "metadata": {},
   "outputs": [],
   "source": [
    "#URL of that product\n",
    "start_link=\"https://www.flipkart.com\"\n",
    "siz=box.find_all(\"div\",class_=\"_1xHGtK _373qXS\")\n",
    "for i in siz:\n",
    "    rest_link=i.find('a')['href']\n",
    "    links.append(start_link+rest_link)\n",
    "    \n",
    "print(len(links))   "
   ]
  },
  {
   "cell_type": "code",
   "execution_count": null,
   "id": "183c020a",
   "metadata": {},
   "outputs": [],
   "source": [
    "#cummulative function for above to scrapp data for 5 pages of the website\n",
    "for i in range(2,7):\n",
    "    url=\"https://www.flipkart.com/search?q=gowns&otracker=search&otracker1=search&marketplace=FLIPKART&as-show=on&as=off&page=\"+str(i)\n",
    "    page=requests.get(url)\n",
    "    soup=BeautifulSoup(page.text,\"html.parser\")\n",
    "    box=soup.find(\"div\",class_ =\"_1YokD2 _3Mn1Gg\")\n",
    "    names=box.find_all(\"a\",class_=\"IRpwTa\")\n",
    "    for i in names:\n",
    "        name=i.text\n",
    "        fabric_name.append(name)\n",
    "        \n",
    "    pri=box.find_all(\"div\",class_ =\"_30jeq3\")\n",
    "\n",
    "    for i in pri:\n",
    "        p=i.text\n",
    "        price.append(p)   \n",
    "        #print(len(price))\n",
    "    col=box.find_all(\"div\",class_=\"_3eWWd-\")\n",
    "    for i in col:\n",
    "        co=i.text\n",
    "        colors.append(co)\n",
    "        #print(len(col))\n",
    "    start_link=\"https://www.flipkart.com\"\n",
    "    siz=box.find_all(\"div\",class_=\"_1xHGtK _373qXS\")\n",
    "    for i in siz:\n",
    "        rest_link=i.find('a')['href']\n",
    "        links.append(start_link+rest_link)    \n",
    "        \n",
    "        \n",
    "   \n",
    "    \n",
    "    \n",
    "  "
   ]
  },
  {
   "cell_type": "code",
   "execution_count": null,
   "id": "509651c4",
   "metadata": {},
   "outputs": [],
   "source": [
    "#dataframe\n",
    "df=pd.DataFrame({\"FABRIC NAME\":fabric_name,\"COLOR OF DRESS\":colors,\"PRICE\":price,\"URL\":links})\n",
    "print(df)"
   ]
  },
  {
   "cell_type": "code",
   "execution_count": null,
   "id": "51fe2f7c",
   "metadata": {},
   "outputs": [],
   "source": [
    "#saving the dataset formwed to csv file\n",
    "df.to_csv(\"clothing3_details.csv\")"
   ]
  },
  {
   "cell_type": "code",
   "execution_count": null,
   "id": "7f77e079",
   "metadata": {},
   "outputs": [],
   "source": []
  },
  {
   "cell_type": "code",
   "execution_count": null,
   "id": "335855c6",
   "metadata": {},
   "outputs": [],
   "source": []
  },
  {
   "cell_type": "code",
   "execution_count": null,
   "id": "5d057010",
   "metadata": {},
   "outputs": [],
   "source": []
  },
  {
   "cell_type": "code",
   "execution_count": null,
   "id": "89bd782b",
   "metadata": {},
   "outputs": [],
   "source": []
  },
  {
   "cell_type": "code",
   "execution_count": null,
   "id": "7b437dee",
   "metadata": {},
   "outputs": [],
   "source": []
  },
  {
   "cell_type": "code",
   "execution_count": null,
   "id": "2e4812d4",
   "metadata": {},
   "outputs": [],
   "source": []
  },
  {
   "cell_type": "code",
   "execution_count": null,
   "id": "f0bcf89f",
   "metadata": {},
   "outputs": [],
   "source": []
  },
  {
   "cell_type": "code",
   "execution_count": null,
   "id": "20705730",
   "metadata": {},
   "outputs": [],
   "source": []
  },
  {
   "cell_type": "code",
   "execution_count": null,
   "id": "9d5657be",
   "metadata": {},
   "outputs": [],
   "source": []
  },
  {
   "cell_type": "code",
   "execution_count": null,
   "id": "7c63503e",
   "metadata": {},
   "outputs": [],
   "source": []
  },
  {
   "cell_type": "code",
   "execution_count": null,
   "id": "9cea6def",
   "metadata": {},
   "outputs": [],
   "source": []
  },
  {
   "cell_type": "code",
   "execution_count": null,
   "id": "90d063b2",
   "metadata": {},
   "outputs": [],
   "source": []
  },
  {
   "cell_type": "code",
   "execution_count": null,
   "id": "a992b8ba",
   "metadata": {},
   "outputs": [],
   "source": []
  },
  {
   "cell_type": "code",
   "execution_count": null,
   "id": "8c45e28f",
   "metadata": {},
   "outputs": [],
   "source": []
  },
  {
   "cell_type": "code",
   "execution_count": null,
   "id": "285f61e1",
   "metadata": {},
   "outputs": [],
   "source": []
  },
  {
   "cell_type": "code",
   "execution_count": null,
   "id": "d38823af",
   "metadata": {},
   "outputs": [],
   "source": []
  },
  {
   "cell_type": "code",
   "execution_count": null,
   "id": "92461a64",
   "metadata": {},
   "outputs": [],
   "source": []
  },
  {
   "cell_type": "code",
   "execution_count": null,
   "id": "3004765c",
   "metadata": {},
   "outputs": [],
   "source": []
  },
  {
   "cell_type": "code",
   "execution_count": null,
   "id": "51caa514",
   "metadata": {},
   "outputs": [],
   "source": []
  },
  {
   "cell_type": "code",
   "execution_count": null,
   "id": "e5bc4dfb",
   "metadata": {},
   "outputs": [],
   "source": []
  }
 ],
 "metadata": {
  "kernelspec": {
   "display_name": "Python 3 (ipykernel)",
   "language": "python",
   "name": "python3"
  },
  "language_info": {
   "codemirror_mode": {
    "name": "ipython",
    "version": 3
   },
   "file_extension": ".py",
   "mimetype": "text/x-python",
   "name": "python",
   "nbconvert_exporter": "python",
   "pygments_lexer": "ipython3",
   "version": "3.10.7"
  }
 },
 "nbformat": 4,
 "nbformat_minor": 5
}
